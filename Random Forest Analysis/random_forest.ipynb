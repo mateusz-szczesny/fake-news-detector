{
 "metadata": {
  "language_info": {
   "codemirror_mode": {
    "name": "ipython",
    "version": 3
   },
   "file_extension": ".py",
   "mimetype": "text/x-python",
   "name": "python",
   "nbconvert_exporter": "python",
   "pygments_lexer": "ipython3",
   "version": "3.8.3"
  },
  "orig_nbformat": 2,
  "kernelspec": {
   "name": "python3",
   "display_name": "Python 3",
   "language": "python"
  }
 },
 "nbformat": 4,
 "nbformat_minor": 2,
 "cells": [
  {
   "cell_type": "code",
   "execution_count": 30,
   "metadata": {},
   "outputs": [],
   "source": [
    "from sklearn.feature_extraction.text import TfidfVectorizer\n",
    "from sklearn.model_selection import KFold\n",
    "import xgboost as xgb\n",
    "import numpy as np\n",
    "import pandas as pd"
   ]
  },
  {
   "cell_type": "code",
   "execution_count": 31,
   "metadata": {},
   "outputs": [],
   "source": [
    "MAX_WORDS = 10000"
   ]
  },
  {
   "cell_type": "code",
   "execution_count": 32,
   "metadata": {},
   "outputs": [],
   "source": [
    "train_data = pd.read_csv('../Data/train.csv')"
   ]
  },
  {
   "cell_type": "code",
   "execution_count": 33,
   "metadata": {},
   "outputs": [],
   "source": [
    "tfidf_vectorizer = TfidfVectorizer(max_features=MAX_WORDS)\n",
    "tfidf_vectorizer.fit(train_data.text)\n",
    "\n",
    "X_train = tfidf_vectorizer.transform(train_data.text)\n",
    "y_train = train_data.label"
   ]
  },
  {
   "cell_type": "code",
   "execution_count": 34,
   "metadata": {
    "tags": []
   },
   "outputs": [],
   "source": [
    "EARLY_STOPPING_ROUNDS = 50\n",
    "MAX_XGBOOST_ROUND = 1500\n",
    "NUMBER_OF_CLASSES = 2\n",
    "\n",
    "xgb_params = {'max_depth': 5,  # the maximum depth of each tree\n",
    "              'eta': 0.2,  # the training step for each iteration\n",
    "              'objective': 'multi:softmax',\n",
    "              'num_class': NUMBER_OF_CLASSES,\n",
    "              'min_child_weight': 2,\n",
    "              'subsample': 1,\n",
    "              'colsample_bytree': 0.5,\n",
    "              'eval_metric': ['mlogloss', 'merror']}\n",
    "\n",
    "k_fold = KFold(n_splits=2, random_state=1, shuffle=True)\n",
    "result = xgb.cv(xgb_params, xgb.DMatrix(X_train, label=y_train), \n",
    "                num_boost_round=MAX_XGBOOST_ROUND, folds=k_fold,    \n",
    "                early_stopping_rounds=EARLY_STOPPING_ROUNDS, verbose_eval=False)"
   ]
  },
  {
   "cell_type": "code",
   "execution_count": 35,
   "metadata": {},
   "outputs": [
    {
     "output_type": "stream",
     "name": "stdout",
     "text": [
      "     train-mlogloss-mean  train-mlogloss-std  train-merror-mean  \\\n0               0.607691            0.001716           0.172663   \n1               0.552424            0.003930           0.156258   \n2               0.509456            0.002113           0.152660   \n3               0.473832            0.000876           0.146535   \n4               0.445886            0.001289           0.139896   \n..                   ...                 ...                ...   \n170             0.104938            0.001047           0.016106   \n171             0.104468            0.001069           0.015763   \n172             0.104037            0.001025           0.015506   \n173             0.103434            0.001257           0.014992   \n174             0.102711            0.001405           0.014564   \n\n     train-merror-std  test-mlogloss-mean  test-mlogloss-std  \\\n0            0.005183            0.611897           0.000552   \n1            0.000086            0.559833           0.002870   \n2            0.001628            0.520698           0.000545   \n3            0.003127            0.488036           0.000804   \n4            0.002571            0.463025           0.000005   \n..                ...                 ...                ...   \n170          0.000086            0.293828           0.005366   \n171          0.000257            0.293855           0.005495   \n172          0.000257            0.293903           0.005403   \n173          0.000600            0.293855           0.005416   \n174          0.000686            0.293763           0.005636   \n\n     test-merror-mean  test-merror-std  \n0            0.185984         0.001714  \n1            0.173991         0.000257  \n2            0.169322         0.002870  \n3            0.165382         0.004069  \n4            0.159471         0.003898  \n..                ...              ...  \n170          0.120921         0.001157  \n171          0.120578         0.001413  \n172          0.120492         0.001242  \n173          0.120149         0.001071  \n174          0.119721         0.001242  \n\n[175 rows x 8 columns]\n"
     ]
    }
   ],
   "source": [
    "print(result)"
   ]
  },
  {
   "cell_type": "code",
   "execution_count": 36,
   "metadata": {},
   "outputs": [
    {
     "output_type": "error",
     "ename": "TypeError",
     "evalue": "train() got an unexpected keyword argument 'folds'",
     "traceback": [
      "\u001b[1;31m---------------------------------------------------------------------------\u001b[0m",
      "\u001b[1;31mTypeError\u001b[0m                                 Traceback (most recent call last)",
      "\u001b[1;32m<ipython-input-36-d861f74bf3c0>\u001b[0m in \u001b[0;36m<module>\u001b[1;34m\u001b[0m\n\u001b[1;32m----> 1\u001b[1;33m clf = xgb.train(xgb_params, xgb.DMatrix(X_train, label=y_train), \n\u001b[0m\u001b[0;32m      2\u001b[0m                 \u001b[0mnum_boost_round\u001b[0m\u001b[1;33m=\u001b[0m\u001b[0mMAX_XGBOOST_ROUND\u001b[0m\u001b[1;33m,\u001b[0m \u001b[0mfolds\u001b[0m\u001b[1;33m=\u001b[0m\u001b[0mk_fold\u001b[0m\u001b[1;33m,\u001b[0m\u001b[1;33m\u001b[0m\u001b[1;33m\u001b[0m\u001b[0m\n\u001b[0;32m      3\u001b[0m                 early_stopping_rounds=EARLY_STOPPING_ROUNDS, verbose_eval=False)\n",
      "\u001b[1;31mTypeError\u001b[0m: train() got an unexpected keyword argument 'folds'"
     ]
    }
   ],
   "source": [
    "clf = xgb.train(xgb_params, xgb.DMatrix(X_train, label=y_train), \n",
    "                num_boost_round=MAX_XGBOOST_ROUND,    \n",
    "                early_stopping_rounds=EARLY_STOPPING_ROUNDS, verbose_eval=False)"
   ]
  },
  {
   "cell_type": "code",
   "execution_count": null,
   "metadata": {},
   "outputs": [],
   "source": [
    "test_data = pd.read_csv('../Data/test.csv')\n",
    "\n",
    "X_test = tfidf_vectorizer.transform(test_data.text)\n",
    "y_test = test_data.label\n",
    "\n",
    "predicted = clf.predict(X_test)\n",
    "print(f'Accuracy: {np.mean(predicted == y_test) * 100}%')"
   ]
  }
 ]
}