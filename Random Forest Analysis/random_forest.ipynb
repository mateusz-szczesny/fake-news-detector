{
 "metadata": {
  "language_info": {
   "codemirror_mode": {
    "name": "ipython",
    "version": 3
   },
   "file_extension": ".py",
   "mimetype": "text/x-python",
   "name": "python",
   "nbconvert_exporter": "python",
   "pygments_lexer": "ipython3",
   "version": "3.8.3-final"
  },
  "orig_nbformat": 2,
  "kernelspec": {
   "name": "python3",
   "display_name": "Python 3",
   "language": "python"
  }
 },
 "nbformat": 4,
 "nbformat_minor": 2,
 "cells": [
  {
   "cell_type": "code",
   "execution_count": 2,
   "metadata": {},
   "outputs": [],
   "source": [
    "import numpy as np\n",
    "import pandas as pd\n",
    "from xgboost import XGBClassifier\n",
    "from sklearn.feature_extraction.text import TfidfVectorizer"
   ]
  },
  {
   "cell_type": "code",
   "execution_count": 3,
   "metadata": {},
   "outputs": [],
   "source": [
    "TRAINING_SAMPLES = 15000\n",
    "VALIDATION_SAMPLES = 6000\n",
    "MAX_WORDS = 10000"
   ]
  },
  {
   "cell_type": "code",
   "execution_count": 4,
   "metadata": {},
   "outputs": [],
   "source": [
    "train_data = pd.read_csv('../Data/train.csv')\n",
    "\n",
    "nan_idx = train_data[pd.isnull(train_data.text)].index.tolist()\n",
    "train_data.loc[nan_idx, 'text'] = ' '"
   ]
  },
  {
   "cell_type": "code",
   "execution_count": 5,
   "metadata": {},
   "outputs": [],
   "source": [
    "tfidf_vectorizer = TfidfVectorizer(max_features=MAX_WORDS)\n",
    "tfidf_vectorizer.fit(train_data.text)\n",
    "\n",
    "x_train = tfidf_vectorizer.transform(train_data.text[:TRAINING_SAMPLES])\n",
    "y_train = train_data.label[:TRAINING_SAMPLES]\n",
    "x_val = tfidf_vectorizer.transform(train_data.text[TRAINING_SAMPLES : TRAINING_SAMPLES + VALIDATION_SAMPLES])\n",
    "y_val = train_data.label[TRAINING_SAMPLES : TRAINING_SAMPLES + VALIDATION_SAMPLES]"
   ]
  },
  {
   "cell_type": "code",
   "execution_count": 6,
   "metadata": {},
   "outputs": [],
   "source": [
    "indices = np.arange(x_train.shape[0])\n",
    "np.random.shuffle(indices)\n",
    "\n",
    "x_train = x_train[indices]\n",
    "y_train = y_train[indices]"
   ]
  },
  {
   "cell_type": "code",
   "execution_count": 9,
   "metadata": {},
   "outputs": [
    {
     "output_type": "stream",
     "name": "stdout",
     "text": [
      "[17:28:37] WARNING: C:/Users/Administrator/workspace/xgboost-win64_release_1.3.0/src/learner.cc:1061: Starting in XGBoost 1.3.0, the default evaluation metric used with the objective 'binary:logistic' was changed from 'error' to 'logloss'. Explicitly set eval_metric if you'd like to restore the old behavior.\n"
     ]
    },
    {
     "output_type": "execute_result",
     "data": {
      "text/plain": [
       "XGBClassifier(base_score=0.5, booster='gbtree', colsample_bylevel=1,\n",
       "              colsample_bynode=1, colsample_bytree=1, gamma=0, gpu_id=-1,\n",
       "              importance_type='gain', interaction_constraints='',\n",
       "              learning_rate=0.300000012, max_delta_step=0, max_depth=6,\n",
       "              min_child_weight=1, missing=nan, monotone_constraints='()',\n",
       "              n_estimators=100, n_jobs=8, num_parallel_tree=1, random_state=0,\n",
       "              reg_alpha=0, reg_lambda=1, scale_pos_weight=1, subsample=1,\n",
       "              tree_method='exact', validate_parameters=1, verbosity=None)"
      ]
     },
     "metadata": {},
     "execution_count": 9
    }
   ],
   "source": [
    "xgb = XGBClassifier()\n",
    "\n",
    "xgb.fit(x_train, y_train)"
   ]
  },
  {
   "cell_type": "code",
   "execution_count": 10,
   "metadata": {},
   "outputs": [
    {
     "output_type": "stream",
     "name": "stdout",
     "text": [
      "Accuracy: 63.653846153846146%\n"
     ]
    }
   ],
   "source": [
    "test_data = pd.read_csv('../Data/test.csv')\n",
    "\n",
    "nan_idx = test_data[pd.isnull(test_data.text)].index.tolist()\n",
    "test_data.loc[nan_idx, 'text'] = ' '\n",
    "\n",
    "x_test = tfidf_vectorizer.transform(test_data.text)\n",
    "y_test = test_data.label\n",
    "\n",
    "predicted = xgb.predict(x_test)\n",
    "print(f'Accuracy: {np.mean(predicted == y_test) * 100}%')"
   ]
  }
 ]
}