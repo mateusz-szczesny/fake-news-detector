{
 "metadata": {
  "language_info": {
   "codemirror_mode": {
    "name": "ipython",
    "version": 3
   },
   "file_extension": ".py",
   "mimetype": "text/x-python",
   "name": "python",
   "nbconvert_exporter": "python",
   "pygments_lexer": "ipython3",
   "version": "3.8.3"
  },
  "orig_nbformat": 2,
  "kernelspec": {
   "name": "python3",
   "display_name": "Python 3",
   "language": "python"
  }
 },
 "nbformat": 4,
 "nbformat_minor": 2,
 "cells": [
  {
   "cell_type": "code",
   "execution_count": 27,
   "metadata": {},
   "outputs": [],
   "source": [
    "from sklearn.feature_extraction.text import TfidfVectorizer\n",
    "from sklearn.model_selection import KFold\n",
    "from xgboost import XGBClassifier, cv\n",
    "import numpy as np\n",
    "import pandas as pd"
   ]
  },
  {
   "cell_type": "code",
   "execution_count": 29,
   "metadata": {},
   "outputs": [
    {
     "output_type": "error",
     "ename": "AttributeError",
     "evalue": "'XGBClassifier' object has no attribute 'cv'",
     "traceback": [
      "\u001b[1;31m---------------------------------------------------------------------------\u001b[0m",
      "\u001b[1;31mAttributeError\u001b[0m                            Traceback (most recent call last)",
      "\u001b[1;32m<ipython-input-29-7b3b0a5ce459>\u001b[0m in \u001b[0;36m<module>\u001b[1;34m\u001b[0m\n\u001b[0;32m      1\u001b[0m \u001b[0mxgb\u001b[0m \u001b[1;33m=\u001b[0m \u001b[0mXGBClassifier\u001b[0m\u001b[1;33m(\u001b[0m\u001b[1;33m)\u001b[0m\u001b[1;33m\u001b[0m\u001b[1;33m\u001b[0m\u001b[0m\n\u001b[1;32m----> 2\u001b[1;33m \u001b[0mxgb\u001b[0m\u001b[1;33m.\u001b[0m\u001b[0mcv\u001b[0m\u001b[1;33m(\u001b[0m\u001b[1;33m)\u001b[0m\u001b[1;33m\u001b[0m\u001b[1;33m\u001b[0m\u001b[0m\n\u001b[0m",
      "\u001b[1;31mAttributeError\u001b[0m: 'XGBClassifier' object has no attribute 'cv'"
     ]
    }
   ],
   "source": [
    "xgb = XGBClassifier()\n",
    "xgb.cv()"
   ]
  },
  {
   "cell_type": "code",
   "execution_count": 23,
   "metadata": {},
   "outputs": [],
   "source": [
    "MAX_WORDS = 10000"
   ]
  },
  {
   "cell_type": "code",
   "execution_count": 24,
   "metadata": {},
   "outputs": [],
   "source": [
    "train_data = pd.read_csv('../Data/train.csv')"
   ]
  },
  {
   "cell_type": "code",
   "execution_count": 26,
   "metadata": {},
   "outputs": [],
   "source": [
    "tfidf_vectorizer = TfidfVectorizer(max_features=MAX_WORDS)\n",
    "tfidf_vectorizer.fit(train_data.text)\n",
    "\n",
    "X_train = tfidf_vectorizer.transform(train_data.text)\n",
    "y_train = train_data.label"
   ]
  },
  {
   "cell_type": "code",
   "execution_count": 20,
   "metadata": {
    "tags": [
     "outputPrepend"
    ]
   },
   "outputs": [
    {
     "output_type": "stream",
     "name": "stdout",
     "text": [
      "0.00845\ttest-merror:0.11571+0.00493\n",
      "[150]\ttrain-mlogloss:0.14845+0.00213\ttrain-merror:0.04229+0.00129\ttest-mlogloss:0.28432+0.00845\ttest-merror:0.11571+0.00517\n",
      "[151]\ttrain-mlogloss:0.14799+0.00223\ttrain-merror:0.04194+0.00151\ttest-mlogloss:0.28418+0.00833\ttest-merror:0.11567+0.00513\n",
      "[152]\ttrain-mlogloss:0.14753+0.00226\ttrain-merror:0.04179+0.00127\ttest-mlogloss:0.28404+0.00839\ttest-merror:0.11548+0.00471\n",
      "[153]\ttrain-mlogloss:0.14705+0.00221\ttrain-merror:0.04148+0.00131\ttest-mlogloss:0.28397+0.00844\ttest-merror:0.11525+0.00481\n",
      "[154]\ttrain-mlogloss:0.14658+0.00225\ttrain-merror:0.04127+0.00136\ttest-mlogloss:0.28384+0.00832\ttest-merror:0.11555+0.00469\n",
      "[155]\ttrain-mlogloss:0.14590+0.00208\ttrain-merror:0.04105+0.00129\ttest-mlogloss:0.28377+0.00840\ttest-merror:0.11598+0.00441\n",
      "[156]\ttrain-mlogloss:0.14544+0.00202\ttrain-merror:0.04070+0.00119\ttest-mlogloss:0.28374+0.00836\ttest-merror:0.11598+0.00446\n",
      "[157]\ttrain-mlogloss:0.14496+0.00204\ttrain-merror:0.04047+0.00122\ttest-mlogloss:0.28379+0.00846\ttest-merror:0.11582+0.00415\n",
      "[158]\ttrain-mlogloss:0.14445+0.00200\ttrain-merror:0.04005+0.00116\ttest-mlogloss:0.28374+0.00844\ttest-merror:0.11571+0.00412\n",
      "[159]\ttrain-mlogloss:0.14393+0.00195\ttrain-merror:0.03973+0.00099\ttest-mlogloss:0.28367+0.00846\ttest-merror:0.11571+0.00418\n",
      "[160]\ttrain-mlogloss:0.14355+0.00194\ttrain-merror:0.03957+0.00107\ttest-mlogloss:0.28367+0.00845\ttest-merror:0.11594+0.00422\n",
      "[161]\ttrain-mlogloss:0.14317+0.00196\ttrain-merror:0.03939+0.00111\ttest-mlogloss:0.28366+0.00848\ttest-merror:0.11586+0.00412\n",
      "[162]\ttrain-mlogloss:0.14264+0.00200\ttrain-merror:0.03900+0.00118\ttest-mlogloss:0.28362+0.00851\ttest-merror:0.11605+0.00424\n",
      "[163]\ttrain-mlogloss:0.14219+0.00201\ttrain-merror:0.03872+0.00107\ttest-mlogloss:0.28359+0.00857\ttest-merror:0.11609+0.00441\n",
      "[164]\ttrain-mlogloss:0.14172+0.00211\ttrain-merror:0.03842+0.00112\ttest-mlogloss:0.28357+0.00855\ttest-merror:0.11617+0.00444\n",
      "[165]\ttrain-mlogloss:0.14125+0.00211\ttrain-merror:0.03829+0.00112\ttest-mlogloss:0.28353+0.00859\ttest-merror:0.11602+0.00436\n",
      "[166]\ttrain-mlogloss:0.14083+0.00211\ttrain-merror:0.03807+0.00115\ttest-mlogloss:0.28346+0.00862\ttest-merror:0.11578+0.00428\n",
      "[167]\ttrain-mlogloss:0.14041+0.00214\ttrain-merror:0.03789+0.00123\ttest-mlogloss:0.28337+0.00869\ttest-merror:0.11590+0.00426\n",
      "[168]\ttrain-mlogloss:0.14004+0.00219\ttrain-merror:0.03772+0.00120\ttest-mlogloss:0.28336+0.00874\ttest-merror:0.11594+0.00435\n",
      "[169]\ttrain-mlogloss:0.13959+0.00215\ttrain-merror:0.03738+0.00115\ttest-mlogloss:0.28331+0.00870\ttest-merror:0.11575+0.00452\n",
      "[170]\ttrain-mlogloss:0.13917+0.00210\ttrain-merror:0.03731+0.00102\ttest-mlogloss:0.28328+0.00879\ttest-merror:0.11582+0.00437\n",
      "[171]\ttrain-mlogloss:0.13878+0.00210\ttrain-merror:0.03720+0.00101\ttest-mlogloss:0.28320+0.00880\ttest-merror:0.11598+0.00439\n",
      "[172]\ttrain-mlogloss:0.13829+0.00206\ttrain-merror:0.03690+0.00091\ttest-mlogloss:0.28317+0.00889\ttest-merror:0.11613+0.00437\n",
      "[173]\ttrain-mlogloss:0.13779+0.00212\ttrain-merror:0.03661+0.00105\ttest-mlogloss:0.28307+0.00889\ttest-merror:0.11594+0.00423\n",
      "[174]\ttrain-mlogloss:0.13728+0.00221\ttrain-merror:0.03631+0.00108\ttest-mlogloss:0.28309+0.00894\ttest-merror:0.11586+0.00446\n",
      "[175]\ttrain-mlogloss:0.13678+0.00214\ttrain-merror:0.03610+0.00103\ttest-mlogloss:0.28300+0.00893\ttest-merror:0.11571+0.00479\n",
      "[176]\ttrain-mlogloss:0.13629+0.00210\ttrain-merror:0.03578+0.00097\ttest-mlogloss:0.28301+0.00891\ttest-merror:0.11567+0.00495\n",
      "[177]\ttrain-mlogloss:0.13584+0.00202\ttrain-merror:0.03550+0.00097\ttest-mlogloss:0.28300+0.00889\ttest-merror:0.11586+0.00491\n",
      "[178]\ttrain-mlogloss:0.13540+0.00214\ttrain-merror:0.03519+0.00102\ttest-mlogloss:0.28298+0.00897\ttest-merror:0.11582+0.00487\n",
      "[179]\ttrain-mlogloss:0.13493+0.00209\ttrain-merror:0.03492+0.00105\ttest-mlogloss:0.28297+0.00891\ttest-merror:0.11567+0.00484\n",
      "[180]\ttrain-mlogloss:0.13444+0.00204\ttrain-merror:0.03468+0.00100\ttest-mlogloss:0.28291+0.00899\ttest-merror:0.11548+0.00476\n",
      "[181]\ttrain-mlogloss:0.13402+0.00203\ttrain-merror:0.03447+0.00097\ttest-mlogloss:0.28286+0.00896\ttest-merror:0.11544+0.00475\n",
      "[182]\ttrain-mlogloss:0.13362+0.00205\ttrain-merror:0.03427+0.00103\ttest-mlogloss:0.28281+0.00892\ttest-merror:0.11532+0.00466\n",
      "[183]\ttrain-mlogloss:0.13321+0.00204\ttrain-merror:0.03411+0.00103\ttest-mlogloss:0.28278+0.00895\ttest-merror:0.11525+0.00467\n",
      "[184]\ttrain-mlogloss:0.13281+0.00204\ttrain-merror:0.03393+0.00095\ttest-mlogloss:0.28276+0.00895\ttest-merror:0.11559+0.00469\n",
      "[185]\ttrain-mlogloss:0.13240+0.00203\ttrain-merror:0.03370+0.00089\ttest-mlogloss:0.28273+0.00897\ttest-merror:0.11548+0.00476\n",
      "[186]\ttrain-mlogloss:0.13207+0.00206\ttrain-merror:0.03351+0.00096\ttest-mlogloss:0.28274+0.00900\ttest-merror:0.11536+0.00466\n",
      "[187]\ttrain-mlogloss:0.13152+0.00210\ttrain-merror:0.03319+0.00100\ttest-mlogloss:0.28274+0.00898\ttest-merror:0.11532+0.00469\n",
      "[188]\ttrain-mlogloss:0.13116+0.00211\ttrain-merror:0.03301+0.00102\ttest-mlogloss:0.28266+0.00901\ttest-merror:0.11536+0.00479\n",
      "[189]\ttrain-mlogloss:0.13080+0.00211\ttrain-merror:0.03276+0.00110\ttest-mlogloss:0.28265+0.00901\ttest-merror:0.11551+0.00477\n",
      "[190]\ttrain-mlogloss:0.13044+0.00212\ttrain-merror:0.03251+0.00113\ttest-mlogloss:0.28267+0.00896\ttest-merror:0.11548+0.00496\n",
      "[191]\ttrain-mlogloss:0.13011+0.00210\ttrain-merror:0.03234+0.00107\ttest-mlogloss:0.28261+0.00899\ttest-merror:0.11528+0.00491\n",
      "[192]\ttrain-mlogloss:0.12972+0.00207\ttrain-merror:0.03205+0.00103\ttest-mlogloss:0.28259+0.00902\ttest-merror:0.11505+0.00484\n",
      "[193]\ttrain-mlogloss:0.12930+0.00210\ttrain-merror:0.03180+0.00116\ttest-mlogloss:0.28252+0.00907\ttest-merror:0.11505+0.00482\n",
      "[194]\ttrain-mlogloss:0.12892+0.00211\ttrain-merror:0.03160+0.00113\ttest-mlogloss:0.28251+0.00909\ttest-merror:0.11501+0.00464\n",
      "[195]\ttrain-mlogloss:0.12843+0.00207\ttrain-merror:0.03123+0.00106\ttest-mlogloss:0.28251+0.00916\ttest-merror:0.11513+0.00465\n",
      "[196]\ttrain-mlogloss:0.12803+0.00210\ttrain-merror:0.03110+0.00106\ttest-mlogloss:0.28246+0.00907\ttest-merror:0.11532+0.00477\n",
      "[197]\ttrain-mlogloss:0.12762+0.00201\ttrain-merror:0.03085+0.00093\ttest-mlogloss:0.28244+0.00912\ttest-merror:0.11544+0.00471\n",
      "[198]\ttrain-mlogloss:0.12713+0.00205\ttrain-merror:0.03059+0.00092\ttest-mlogloss:0.28248+0.00917\ttest-merror:0.11559+0.00474\n",
      "[199]\ttrain-mlogloss:0.12667+0.00211\ttrain-merror:0.03031+0.00099\ttest-mlogloss:0.28245+0.00928\ttest-merror:0.11536+0.00468\n",
      "[200]\ttrain-mlogloss:0.12621+0.00217\ttrain-merror:0.03015+0.00104\ttest-mlogloss:0.28239+0.00931\ttest-merror:0.11524+0.00486\n",
      "[201]\ttrain-mlogloss:0.12580+0.00215\ttrain-merror:0.02994+0.00099\ttest-mlogloss:0.28238+0.00927\ttest-merror:0.11517+0.00474\n",
      "[202]\ttrain-mlogloss:0.12546+0.00215\ttrain-merror:0.02964+0.00102\ttest-mlogloss:0.28240+0.00925\ttest-merror:0.11509+0.00478\n",
      "[203]\ttrain-mlogloss:0.12505+0.00203\ttrain-merror:0.02949+0.00096\ttest-mlogloss:0.28228+0.00917\ttest-merror:0.11513+0.00462\n",
      "[204]\ttrain-mlogloss:0.12455+0.00209\ttrain-merror:0.02920+0.00105\ttest-mlogloss:0.28223+0.00916\ttest-merror:0.11494+0.00474\n",
      "[205]\ttrain-mlogloss:0.12415+0.00218\ttrain-merror:0.02888+0.00103\ttest-mlogloss:0.28222+0.00913\ttest-merror:0.11490+0.00465\n",
      "[206]\ttrain-mlogloss:0.12379+0.00220\ttrain-merror:0.02876+0.00093\ttest-mlogloss:0.28221+0.00920\ttest-merror:0.11478+0.00461\n",
      "[207]\ttrain-mlogloss:0.12342+0.00214\ttrain-merror:0.02838+0.00082\ttest-mlogloss:0.28223+0.00922\ttest-merror:0.11478+0.00477\n",
      "[208]\ttrain-mlogloss:0.12304+0.00218\ttrain-merror:0.02821+0.00082\ttest-mlogloss:0.28219+0.00919\ttest-merror:0.11494+0.00477\n",
      "[209]\ttrain-mlogloss:0.12271+0.00219\ttrain-merror:0.02807+0.00082\ttest-mlogloss:0.28221+0.00916\ttest-merror:0.11501+0.00477\n",
      "[210]\ttrain-mlogloss:0.12232+0.00218\ttrain-merror:0.02785+0.00088\ttest-mlogloss:0.28226+0.00919\ttest-merror:0.11528+0.00469\n",
      "[211]\ttrain-mlogloss:0.12197+0.00224\ttrain-merror:0.02770+0.00085\ttest-mlogloss:0.28219+0.00920\ttest-merror:0.11540+0.00450\n",
      "[212]\ttrain-mlogloss:0.12165+0.00221\ttrain-merror:0.02755+0.00093\ttest-mlogloss:0.28218+0.00921\ttest-merror:0.11555+0.00452\n",
      "[213]\ttrain-mlogloss:0.12128+0.00220\ttrain-merror:0.02738+0.00101\ttest-mlogloss:0.28221+0.00922\ttest-merror:0.11544+0.00455\n",
      "[214]\ttrain-mlogloss:0.12080+0.00226\ttrain-merror:0.02707+0.00102\ttest-mlogloss:0.28217+0.00921\ttest-merror:0.11540+0.00467\n",
      "[215]\ttrain-mlogloss:0.12048+0.00229\ttrain-merror:0.02686+0.00109\ttest-mlogloss:0.28217+0.00916\ttest-merror:0.11544+0.00454\n",
      "[216]\ttrain-mlogloss:0.12015+0.00225\ttrain-merror:0.02673+0.00111\ttest-mlogloss:0.28220+0.00914\ttest-merror:0.11544+0.00454\n",
      "[217]\ttrain-mlogloss:0.11978+0.00219\ttrain-merror:0.02655+0.00112\ttest-mlogloss:0.28216+0.00908\ttest-merror:0.11544+0.00472\n",
      "[218]\ttrain-mlogloss:0.11946+0.00212\ttrain-merror:0.02623+0.00100\ttest-mlogloss:0.28212+0.00906\ttest-merror:0.11551+0.00484\n",
      "[219]\ttrain-mlogloss:0.11917+0.00214\ttrain-merror:0.02608+0.00105\ttest-mlogloss:0.28214+0.00901\ttest-merror:0.11544+0.00494\n",
      "[220]\ttrain-mlogloss:0.11882+0.00207\ttrain-merror:0.02589+0.00102\ttest-mlogloss:0.28214+0.00901\ttest-merror:0.11544+0.00473\n",
      "[221]\ttrain-mlogloss:0.11845+0.00204\ttrain-merror:0.02574+0.00105\ttest-mlogloss:0.28214+0.00898\ttest-merror:0.11548+0.00479\n",
      "[222]\ttrain-mlogloss:0.11807+0.00206\ttrain-merror:0.02557+0.00103\ttest-mlogloss:0.28202+0.00900\ttest-merror:0.11544+0.00468\n",
      "[223]\ttrain-mlogloss:0.11763+0.00208\ttrain-merror:0.02531+0.00100\ttest-mlogloss:0.28207+0.00898\ttest-merror:0.11544+0.00454\n",
      "[224]\ttrain-mlogloss:0.11716+0.00202\ttrain-merror:0.02508+0.00080\ttest-mlogloss:0.28209+0.00897\ttest-merror:0.11540+0.00476\n",
      "[225]\ttrain-mlogloss:0.11681+0.00201\ttrain-merror:0.02492+0.00078\ttest-mlogloss:0.28203+0.00899\ttest-merror:0.11548+0.00460\n",
      "[226]\ttrain-mlogloss:0.11651+0.00199\ttrain-merror:0.02482+0.00082\ttest-mlogloss:0.28200+0.00896\ttest-merror:0.11551+0.00437\n",
      "[227]\ttrain-mlogloss:0.11620+0.00194\ttrain-merror:0.02462+0.00074\ttest-mlogloss:0.28198+0.00900\ttest-merror:0.11555+0.00443\n",
      "[228]\ttrain-mlogloss:0.11579+0.00202\ttrain-merror:0.02434+0.00082\ttest-mlogloss:0.28198+0.00903\ttest-merror:0.11555+0.00432\n",
      "[229]\ttrain-mlogloss:0.11541+0.00202\ttrain-merror:0.02411+0.00086\ttest-mlogloss:0.28198+0.00897\ttest-merror:0.11555+0.00444\n",
      "[230]\ttrain-mlogloss:0.11509+0.00200\ttrain-merror:0.02392+0.00084\ttest-mlogloss:0.28203+0.00900\ttest-merror:0.11555+0.00469\n",
      "[231]\ttrain-mlogloss:0.11475+0.00200\ttrain-merror:0.02365+0.00074\ttest-mlogloss:0.28197+0.00898\ttest-merror:0.11571+0.00449\n",
      "[232]\ttrain-mlogloss:0.11437+0.00206\ttrain-merror:0.02349+0.00084\ttest-mlogloss:0.28197+0.00909\ttest-merror:0.11575+0.00453\n",
      "[233]\ttrain-mlogloss:0.11408+0.00210\ttrain-merror:0.02330+0.00084\ttest-mlogloss:0.28196+0.00910\ttest-merror:0.11567+0.00454\n",
      "[234]\ttrain-mlogloss:0.11377+0.00208\ttrain-merror:0.02308+0.00077\ttest-mlogloss:0.28201+0.00919\ttest-merror:0.11578+0.00460\n",
      "[235]\ttrain-mlogloss:0.11342+0.00204\ttrain-merror:0.02295+0.00073\ttest-mlogloss:0.28203+0.00921\ttest-merror:0.11578+0.00456\n",
      "[236]\ttrain-mlogloss:0.11301+0.00214\ttrain-merror:0.02275+0.00086\ttest-mlogloss:0.28200+0.00921\ttest-merror:0.11551+0.00480\n",
      "[237]\ttrain-mlogloss:0.11272+0.00221\ttrain-merror:0.02256+0.00094\ttest-mlogloss:0.28197+0.00919\ttest-merror:0.11540+0.00480\n",
      "[238]\ttrain-mlogloss:0.11239+0.00214\ttrain-merror:0.02231+0.00093\ttest-mlogloss:0.28193+0.00924\ttest-merror:0.11521+0.00465\n",
      "[239]\ttrain-mlogloss:0.11202+0.00218\ttrain-merror:0.02210+0.00102\ttest-mlogloss:0.28194+0.00925\ttest-merror:0.11528+0.00456\n",
      "[240]\ttrain-mlogloss:0.11168+0.00213\ttrain-merror:0.02192+0.00097\ttest-mlogloss:0.28193+0.00927\ttest-merror:0.11521+0.00450\n",
      "[241]\ttrain-mlogloss:0.11126+0.00210\ttrain-merror:0.02167+0.00094\ttest-mlogloss:0.28199+0.00929\ttest-merror:0.11532+0.00450\n",
      "[242]\ttrain-mlogloss:0.11097+0.00207\ttrain-merror:0.02160+0.00085\ttest-mlogloss:0.28198+0.00926\ttest-merror:0.11528+0.00468\n",
      "[243]\ttrain-mlogloss:0.11060+0.00207\ttrain-merror:0.02140+0.00091\ttest-mlogloss:0.28198+0.00930\ttest-merror:0.11509+0.00453\n",
      "[244]\ttrain-mlogloss:0.11031+0.00205\ttrain-merror:0.02123+0.00091\ttest-mlogloss:0.28197+0.00928\ttest-merror:0.11517+0.00463\n",
      "[245]\ttrain-mlogloss:0.11004+0.00202\ttrain-merror:0.02116+0.00102\ttest-mlogloss:0.28201+0.00925\ttest-merror:0.11532+0.00440\n",
      "[246]\ttrain-mlogloss:0.10978+0.00199\ttrain-merror:0.02104+0.00103\ttest-mlogloss:0.28195+0.00927\ttest-merror:0.11525+0.00452\n",
      "[247]\ttrain-mlogloss:0.10949+0.00195\ttrain-merror:0.02097+0.00099\ttest-mlogloss:0.28193+0.00926\ttest-merror:0.11521+0.00426\n",
      "[248]\ttrain-mlogloss:0.10908+0.00195\ttrain-merror:0.02075+0.00102\ttest-mlogloss:0.28199+0.00937\ttest-merror:0.11478+0.00442\n",
      "[249]\ttrain-mlogloss:0.10876+0.00202\ttrain-merror:0.02063+0.00108\ttest-mlogloss:0.28198+0.00934\ttest-merror:0.11490+0.00430\n",
      "[250]\ttrain-mlogloss:0.10850+0.00202\ttrain-merror:0.02040+0.00108\ttest-mlogloss:0.28195+0.00931\ttest-merror:0.11498+0.00431\n",
      "[251]\ttrain-mlogloss:0.10817+0.00198\ttrain-merror:0.02020+0.00101\ttest-mlogloss:0.28191+0.00925\ttest-merror:0.11501+0.00433\n",
      "[252]\ttrain-mlogloss:0.10784+0.00197\ttrain-merror:0.02006+0.00089\ttest-mlogloss:0.28191+0.00919\ttest-merror:0.11471+0.00440\n",
      "[253]\ttrain-mlogloss:0.10743+0.00201\ttrain-merror:0.01981+0.00086\ttest-mlogloss:0.28197+0.00925\ttest-merror:0.11440+0.00453\n",
      "[254]\ttrain-mlogloss:0.10717+0.00201\ttrain-merror:0.01968+0.00088\ttest-mlogloss:0.28198+0.00925\ttest-merror:0.11440+0.00462\n",
      "[255]\ttrain-mlogloss:0.10690+0.00201\ttrain-merror:0.01957+0.00093\ttest-mlogloss:0.28206+0.00929\ttest-merror:0.11436+0.00450\n",
      "[256]\ttrain-mlogloss:0.10664+0.00200\ttrain-merror:0.01942+0.00079\ttest-mlogloss:0.28202+0.00930\ttest-merror:0.11451+0.00451\n",
      "[257]\ttrain-mlogloss:0.10632+0.00200\ttrain-merror:0.01919+0.00089\ttest-mlogloss:0.28202+0.00927\ttest-merror:0.11447+0.00456\n",
      "[258]\ttrain-mlogloss:0.10602+0.00196\ttrain-merror:0.01908+0.00091\ttest-mlogloss:0.28204+0.00928\ttest-merror:0.11432+0.00469\n",
      "[259]\ttrain-mlogloss:0.10567+0.00205\ttrain-merror:0.01879+0.00110\ttest-mlogloss:0.28205+0.00925\ttest-merror:0.11444+0.00481\n",
      "[260]\ttrain-mlogloss:0.10532+0.00198\ttrain-merror:0.01853+0.00098\ttest-mlogloss:0.28210+0.00918\ttest-merror:0.11447+0.00470\n",
      "[261]\ttrain-mlogloss:0.10501+0.00195\ttrain-merror:0.01844+0.00093\ttest-mlogloss:0.28208+0.00912\ttest-merror:0.11420+0.00495\n",
      "[262]\ttrain-mlogloss:0.10465+0.00196\ttrain-merror:0.01823+0.00095\ttest-mlogloss:0.28208+0.00918\ttest-merror:0.11428+0.00483\n",
      "[263]\ttrain-mlogloss:0.10428+0.00197\ttrain-merror:0.01809+0.00089\ttest-mlogloss:0.28217+0.00917\ttest-merror:0.11424+0.00463\n",
      "[264]\ttrain-mlogloss:0.10398+0.00198\ttrain-merror:0.01792+0.00085\ttest-mlogloss:0.28213+0.00922\ttest-merror:0.11428+0.00471\n",
      "[265]\ttrain-mlogloss:0.10372+0.00195\ttrain-merror:0.01779+0.00092\ttest-mlogloss:0.28204+0.00925\ttest-merror:0.11436+0.00478\n",
      "[266]\ttrain-mlogloss:0.10346+0.00196\ttrain-merror:0.01768+0.00092\ttest-mlogloss:0.28205+0.00932\ttest-merror:0.11432+0.00469\n",
      "[267]\ttrain-mlogloss:0.10317+0.00197\ttrain-merror:0.01750+0.00088\ttest-mlogloss:0.28205+0.00930\ttest-merror:0.11432+0.00459\n",
      "[268]\ttrain-mlogloss:0.10290+0.00198\ttrain-merror:0.01741+0.00084\ttest-mlogloss:0.28204+0.00933\ttest-merror:0.11424+0.00476\n",
      "[269]\ttrain-mlogloss:0.10261+0.00192\ttrain-merror:0.01734+0.00085\ttest-mlogloss:0.28196+0.00938\ttest-merror:0.11428+0.00481\n",
      "[270]\ttrain-mlogloss:0.10233+0.00185\ttrain-merror:0.01721+0.00091\ttest-mlogloss:0.28191+0.00938\ttest-merror:0.11428+0.00489\n",
      "[271]\ttrain-mlogloss:0.10206+0.00186\ttrain-merror:0.01702+0.00085\ttest-mlogloss:0.28193+0.00938\ttest-merror:0.11463+0.00493\n",
      "[272]\ttrain-mlogloss:0.10180+0.00186\ttrain-merror:0.01685+0.00086\ttest-mlogloss:0.28198+0.00940\ttest-merror:0.11447+0.00503\n",
      "[273]\ttrain-mlogloss:0.10150+0.00186\ttrain-merror:0.01669+0.00081\ttest-mlogloss:0.28196+0.00939\ttest-merror:0.11447+0.00504\n",
      "[274]\ttrain-mlogloss:0.10119+0.00186\ttrain-merror:0.01659+0.00080\ttest-mlogloss:0.28200+0.00940\ttest-merror:0.11459+0.00507\n",
      "[275]\ttrain-mlogloss:0.10089+0.00190\ttrain-merror:0.01639+0.00075\ttest-mlogloss:0.28209+0.00941\ttest-merror:0.11463+0.00511\n",
      "[276]\ttrain-mlogloss:0.10064+0.00185\ttrain-merror:0.01635+0.00076\ttest-mlogloss:0.28210+0.00952\ttest-merror:0.11459+0.00479\n",
      "[277]\ttrain-mlogloss:0.10040+0.00187\ttrain-merror:0.01620+0.00072\ttest-mlogloss:0.28209+0.00950\ttest-merror:0.11455+0.00479\n",
      "[278]\ttrain-mlogloss:0.10013+0.00188\ttrain-merror:0.01602+0.00073\ttest-mlogloss:0.28202+0.00951\ttest-merror:0.11451+0.00494\n",
      "[279]\ttrain-mlogloss:0.09978+0.00185\ttrain-merror:0.01574+0.00064\ttest-mlogloss:0.28203+0.00956\ttest-merror:0.11455+0.00502\n",
      "[280]\ttrain-mlogloss:0.09946+0.00178\ttrain-merror:0.01559+0.00059\ttest-mlogloss:0.28204+0.00961\ttest-merror:0.11451+0.00524\n",
      "[281]\ttrain-mlogloss:0.09923+0.00181\ttrain-merror:0.01549+0.00058\ttest-mlogloss:0.28209+0.00965\ttest-merror:0.11463+0.00528\n",
      "[282]\ttrain-mlogloss:0.09896+0.00183\ttrain-merror:0.01535+0.00058\ttest-mlogloss:0.28211+0.00970\ttest-merror:0.11467+0.00517\n",
      "[283]\ttrain-mlogloss:0.09869+0.00180\ttrain-merror:0.01514+0.00061\ttest-mlogloss:0.28217+0.00970\ttest-merror:0.11478+0.00507\n",
      "[284]\ttrain-mlogloss:0.09834+0.00184\ttrain-merror:0.01494+0.00056\ttest-mlogloss:0.28212+0.00973\ttest-merror:0.11471+0.00512\n",
      "[285]\ttrain-mlogloss:0.09803+0.00184\ttrain-merror:0.01484+0.00057\ttest-mlogloss:0.28212+0.00973\ttest-merror:0.11463+0.00508\n",
      "[286]\ttrain-mlogloss:0.09774+0.00178\ttrain-merror:0.01475+0.00060\ttest-mlogloss:0.28211+0.00974\ttest-merror:0.11490+0.00510\n",
      "[287]\ttrain-mlogloss:0.09749+0.00177\ttrain-merror:0.01461+0.00068\ttest-mlogloss:0.28212+0.00969\ttest-merror:0.11478+0.00505\n",
      "[288]\ttrain-mlogloss:0.09720+0.00174\ttrain-merror:0.01445+0.00068\ttest-mlogloss:0.28209+0.00966\ttest-merror:0.11467+0.00528\n",
      "[289]\ttrain-mlogloss:0.09695+0.00175\ttrain-merror:0.01429+0.00072\ttest-mlogloss:0.28213+0.00966\ttest-merror:0.11471+0.00522\n",
      "[290]\ttrain-mlogloss:0.09672+0.00174\ttrain-merror:0.01422+0.00071\ttest-mlogloss:0.28213+0.00967\ttest-merror:0.11471+0.00568\n",
      "[291]\ttrain-mlogloss:0.09648+0.00175\ttrain-merror:0.01406+0.00073\ttest-mlogloss:0.28212+0.00967\ttest-merror:0.11459+0.00561\n",
      "[292]\ttrain-mlogloss:0.09624+0.00174\ttrain-merror:0.01390+0.00070\ttest-mlogloss:0.28218+0.00962\ttest-merror:0.11471+0.00535\n",
      "[293]\ttrain-mlogloss:0.09592+0.00170\ttrain-merror:0.01372+0.00080\ttest-mlogloss:0.28210+0.00965\ttest-merror:0.11478+0.00521\n",
      "[294]\ttrain-mlogloss:0.09566+0.00166\ttrain-merror:0.01355+0.00079\ttest-mlogloss:0.28216+0.00966\ttest-merror:0.11478+0.00521\n",
      "[295]\ttrain-mlogloss:0.09533+0.00172\ttrain-merror:0.01337+0.00072\ttest-mlogloss:0.28222+0.00967\ttest-merror:0.11471+0.00515\n",
      "[296]\ttrain-mlogloss:0.09506+0.00173\ttrain-merror:0.01330+0.00070\ttest-mlogloss:0.28212+0.00964\ttest-merror:0.11478+0.00517\n",
      "[297]\ttrain-mlogloss:0.09479+0.00172\ttrain-merror:0.01325+0.00064\ttest-mlogloss:0.28212+0.00966\ttest-merror:0.11474+0.00554\n",
      "[298]\ttrain-mlogloss:0.09454+0.00171\ttrain-merror:0.01316+0.00069\ttest-mlogloss:0.28215+0.00973\ttest-merror:0.11474+0.00565\n",
      "[299]\ttrain-mlogloss:0.09422+0.00180\ttrain-merror:0.01301+0.00075\ttest-mlogloss:0.28218+0.00973\ttest-merror:0.11501+0.00574\n",
      "[300]\ttrain-mlogloss:0.09385+0.00189\ttrain-merror:0.01289+0.00080\ttest-mlogloss:0.28219+0.00971\ttest-merror:0.11486+0.00535\n",
      "[301]\ttrain-mlogloss:0.09358+0.00193\ttrain-merror:0.01270+0.00081\ttest-mlogloss:0.28220+0.00966\ttest-merror:0.11471+0.00523\n",
      "[302]\ttrain-mlogloss:0.09327+0.00197\ttrain-merror:0.01269+0.00079\ttest-mlogloss:0.28226+0.00971\ttest-merror:0.11459+0.00539\n",
      "[303]\ttrain-mlogloss:0.09303+0.00195\ttrain-merror:0.01258+0.00084\ttest-mlogloss:0.28229+0.00966\ttest-merror:0.11486+0.00548\n",
      "[304]\ttrain-mlogloss:0.09283+0.00195\ttrain-merror:0.01250+0.00089\ttest-mlogloss:0.28235+0.00958\ttest-merror:0.11482+0.00538\n",
      "[305]\ttrain-mlogloss:0.09249+0.00194\ttrain-merror:0.01231+0.00091\ttest-mlogloss:0.28239+0.00960\ttest-merror:0.11490+0.00554\n",
      "[306]\ttrain-mlogloss:0.09217+0.00195\ttrain-merror:0.01221+0.00085\ttest-mlogloss:0.28238+0.00957\ttest-merror:0.11494+0.00560\n",
      "[307]\ttrain-mlogloss:0.09183+0.00190\ttrain-merror:0.01216+0.00079\ttest-mlogloss:0.28240+0.00960\ttest-merror:0.11471+0.00578\n",
      "[308]\ttrain-mlogloss:0.09156+0.00188\ttrain-merror:0.01208+0.00079\ttest-mlogloss:0.28239+0.00959\ttest-merror:0.11478+0.00574\n",
      "[309]\ttrain-mlogloss:0.09132+0.00186\ttrain-merror:0.01196+0.00073\ttest-mlogloss:0.28234+0.00957\ttest-merror:0.11494+0.00583\n",
      "[310]\ttrain-mlogloss:0.09102+0.00186\ttrain-merror:0.01184+0.00073\ttest-mlogloss:0.28237+0.00950\ttest-merror:0.11498+0.00558\n"
     ]
    }
   ],
   "source": [
    "EARLY_STOPPING_ROUNDS = 50\n",
    "MAX_XGBOOST_ROUND = 1500\n",
    "NUMBER_OF_CLASSES = 2\n",
    "\n",
    "xgb_params = {'max_depth': 5,  # the maximum depth of each tree\n",
    "              'eta': 0.2,  # the training step for each iteration\n",
    "              'objective': 'multi:softmax',\n",
    "              'num_class': NUMBER_OF_CLASSES,\n",
    "              'min_child_weight': 2,\n",
    "              'subsample': 1,\n",
    "              'colsample_bytree': 0.5,\n",
    "              'eval_metric': ['mlogloss', 'merror']}\n",
    "\n",
    "k_fold = KFold(n_splits=2, random_state=1, shuffle=True)\n",
    "result = cv(xgb_params, xgb.DMatrix(X_train, label=y_train), \n",
    "                num_boost_round=MAX_XGBOOST_ROUND, folds=k_fold,    \n",
    "                early_stopping_rounds=EARLY_STOPPING_ROUNDS, verbose_eval=False)"
   ]
  },
  {
   "cell_type": "code",
   "execution_count": 21,
   "metadata": {},
   "outputs": [
    {
     "output_type": "stream",
     "name": "stdout",
     "text": [
      "     train-mlogloss-mean  train-mlogloss-std  train-merror-mean  \\\n0               0.612051            0.000352           0.173967   \n1               0.555668            0.002884           0.162005   \n2               0.511843            0.001516           0.151710   \n3               0.480213            0.002746           0.147931   \n4               0.451717            0.002262           0.144403   \n..                   ...                 ...                ...   \n257             0.106322            0.001999           0.019191   \n258             0.106018            0.001957           0.019076   \n259             0.105669            0.002052           0.018787   \n260             0.105324            0.001978           0.018526   \n261             0.105014            0.001948           0.018439   \n\n     train-merror-std  test-mlogloss-mean  test-mlogloss-std  \\\n0            0.001023            0.614373           0.000330   \n1            0.002206            0.560457           0.002399   \n2            0.002198            0.518677           0.001094   \n3            0.000996            0.489021           0.001795   \n4            0.001950            0.462303           0.001306   \n..                ...                 ...                ...   \n257          0.000887            0.282018           0.009274   \n258          0.000910            0.282040           0.009283   \n259          0.001101            0.282046           0.009254   \n260          0.000977            0.282100           0.009175   \n261          0.000932            0.282082           0.009124   \n\n     test-merror-mean  test-merror-std  \n0            0.183220         0.003029  \n1            0.170805         0.007158  \n2            0.162592         0.003720  \n3            0.157966         0.005323  \n4            0.155729         0.004773  \n..                ...              ...  \n257          0.114474         0.004559  \n258          0.114320         0.004693  \n259          0.114436         0.004808  \n260          0.114474         0.004701  \n261          0.114204         0.004946  \n\n[262 rows x 8 columns]\n"
     ]
    }
   ],
   "source": [
    "print(result)"
   ]
  },
  {
   "cell_type": "code",
   "execution_count": null,
   "metadata": {},
   "outputs": [],
   "source": [
    "xgb = XGBClassifier()\n",
    "\n",
    "xgb.fit(X, y)"
   ]
  },
  {
   "cell_type": "code",
   "execution_count": null,
   "metadata": {},
   "outputs": [],
   "source": [
    "test_data = pd.read_csv('../Data/test.csv')\n",
    "\n",
    "X_test = tfidf_vectorizer.transform(test_data.text)\n",
    "y_test = test_data.label\n",
    "\n",
    "predicted = knn.predict(X_test)\n",
    "print(f'Accuracy: {np.mean(predicted == y_test) * 100}%')"
   ]
  }
 ]
}