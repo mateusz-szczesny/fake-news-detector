{
 "metadata": {
  "language_info": {
   "codemirror_mode": {
    "name": "ipython",
    "version": 3
   },
   "file_extension": ".py",
   "mimetype": "text/x-python",
   "name": "python",
   "nbconvert_exporter": "python",
   "pygments_lexer": "ipython3",
   "version": "3.8.3-final"
  },
  "orig_nbformat": 2,
  "kernelspec": {
   "name": "python3",
   "display_name": "Python 3",
   "language": "python"
  }
 },
 "nbformat": 4,
 "nbformat_minor": 2,
 "cells": [
  {
   "cell_type": "code",
   "execution_count": 28,
   "metadata": {},
   "outputs": [],
   "source": [
    "import numpy as np\n",
    "import pandas as pd\n",
    "from sklearn.feature_extraction.text import TfidfVectorizer\n",
    "from sklearn.neighbors import KNeighborsClassifier\n",
    "from sklearn.pipeline import Pipeline"
   ]
  },
  {
   "cell_type": "code",
   "execution_count": 22,
   "metadata": {},
   "outputs": [],
   "source": [
    "train_data = pd.read_csv('../Data/train.csv')\n",
    "\n",
    "nan_idx = train_data[pd.isnull(train_data.text)].index.tolist()\n",
    "train_data.loc[nan_idx, 'text'] = ' '"
   ]
  },
  {
   "cell_type": "code",
   "execution_count": 29,
   "metadata": {},
   "outputs": [
    {
     "output_type": "execute_result",
     "data": {
      "text/plain": [
       "Pipeline(steps=[('tfidvect', TfidfVectorizer()),\n",
       "                ('clf', KNeighborsClassifier(n_neighbors=7))])"
      ]
     },
     "metadata": {},
     "execution_count": 29
    }
   ],
   "source": [
    "clf = Pipeline([\n",
    "    ('tfidfvect', TfidfVectorizer()),\n",
    "    ('clf', KNeighborsClassifier(n_neighbors=7)),\n",
    "])\n",
    "\n",
    "clf.fit(train_data.text, train_data.label)"
   ]
  },
  {
   "cell_type": "code",
   "execution_count": 38,
   "metadata": {},
   "outputs": [
    {
     "output_type": "stream",
     "name": "stdout",
     "text": [
      "[0 1 1 ... 1 1 1]\nAccuracy: 64.51923076923077%\n"
     ]
    }
   ],
   "source": [
    "test_data = pd.read_csv('../Data/test.csv')\n",
    "nan_idx = test_data[pd.isnull(test_data.text)].index.tolist()\n",
    "test_data.loc[nan_idx, 'text'] = ' '\n",
    "\n",
    " \n",
    "predicted = clf.predict(test_data.text)\n",
    "print(f'Accuracy: {np.mean(predicted == test_data.label) * 100}%')"
   ]
  }
 ]
}