{
 "metadata": {
  "language_info": {
   "codemirror_mode": {
    "name": "ipython",
    "version": 3
   },
   "file_extension": ".py",
   "mimetype": "text/x-python",
   "name": "python",
   "nbconvert_exporter": "python",
   "pygments_lexer": "ipython3",
   "version": "3.8.3-final"
  },
  "orig_nbformat": 2,
  "kernelspec": {
   "name": "python3",
   "display_name": "Python 3",
   "language": "python"
  }
 },
 "nbformat": 4,
 "nbformat_minor": 2,
 "cells": [
  {
   "cell_type": "code",
   "execution_count": 9,
   "metadata": {},
   "outputs": [],
   "source": [
    "import numpy as np\n",
    "import pandas as pd\n",
    "from keras.preprocessing.text import Tokenizer\n",
    "from keras.preprocessing.sequence import pad_sequences\n",
    "from sklearn.neighbors import KNeighborsClassifier"
   ]
  },
  {
   "cell_type": "code",
   "execution_count": 10,
   "metadata": {},
   "outputs": [],
   "source": [
    "TRAINING_SAMPLES = 15000\n",
    "VALIDATION_SAMPLES = 6000\n",
    "MAX_WORDS = 10000\n",
    "MAX_FEATURE_LEN = 1000"
   ]
  },
  {
   "cell_type": "code",
   "execution_count": 11,
   "metadata": {},
   "outputs": [],
   "source": [
    "train_data = pd.read_csv('../Data/train.csv')\n",
    "\n",
    "nan_idx = train_data[pd.isnull(train_data.text)].index.tolist()\n",
    "train_data.loc[nan_idx, 'text'] = ' '"
   ]
  },
  {
   "cell_type": "code",
   "execution_count": 12,
   "metadata": {},
   "outputs": [
    {
     "output_type": "stream",
     "name": "stdout",
     "text": [
      "Znaleziono 238051 unikatowych tokenów.\n",
      "Kształt tensora danych: (20800, 1000)\n",
      "Kształt tensora etykiet: (20800,)\n"
     ]
    }
   ],
   "source": [
    "tokenizer = Tokenizer(num_words=MAX_WORDS)\n",
    "\n",
    "tokenizer.fit_on_texts(train_data.text)\n",
    "sequences = tokenizer.texts_to_sequences(train_data.text)\n",
    "\n",
    "print(f'Znaleziono {len(tokenizer.word_index)} unikatowych tokenów.')\n",
    "\n",
    "data = pad_sequences(sequences, maxlen=MAX_FEATURE_LEN)\n",
    "labels = train_data.label\n",
    "\n",
    "print(f'Kształt tensora danych: {data.shape}')\n",
    "print(f'Kształt tensora etykiet: {labels.shape}')"
   ]
  },
  {
   "cell_type": "code",
   "execution_count": 13,
   "metadata": {},
   "outputs": [],
   "source": [
    "indices = np.arange(data.shape[0])\n",
    "np.random.shuffle(indices)\n",
    "data = data[indices]\n",
    "labels = labels[indices]\n",
    "\n",
    "x_train = data[:TRAINING_SAMPLES]\n",
    "y_train = labels[:TRAINING_SAMPLES]\n",
    "x_val = data[TRAINING_SAMPLES : TRAINING_SAMPLES + VALIDATION_SAMPLES]\n",
    "y_val = labels[TRAINING_SAMPLES : TRAINING_SAMPLES + VALIDATION_SAMPLES]"
   ]
  },
  {
   "cell_type": "code",
   "execution_count": 15,
   "metadata": {},
   "outputs": [
    {
     "output_type": "execute_result",
     "data": {
      "text/plain": [
       "KNeighborsClassifier(n_neighbors=7)"
      ]
     },
     "metadata": {},
     "execution_count": 15
    }
   ],
   "source": [
    "knn = KNeighborsClassifier(n_neighbors=7)\n",
    "\n",
    "knn.fit(x_train, y_train)"
   ]
  },
  {
   "cell_type": "code",
   "execution_count": 17,
   "metadata": {},
   "outputs": [
    {
     "output_type": "stream",
     "name": "stdout",
     "text": [
      "Accuracy: 55.3076923076923%\n"
     ]
    }
   ],
   "source": [
    "test_data = pd.read_csv('../Data/test.csv')\n",
    "nan_idx = test_data[pd.isnull(test_data.text)].index.tolist()\n",
    "test_data.loc[nan_idx, 'text'] = ' '\n",
    "\n",
    "tokenizer = Tokenizer(num_words=MAX_WORDS)\n",
    "tokenizer.fit_on_texts(test_data.text)\n",
    "sequences = tokenizer.texts_to_sequences(test_data.text)\n",
    "\n",
    "x_test = pad_sequences(sequences, maxlen=MAX_FEATURE_LEN)\n",
    "y_test = test_data.label\n",
    "\n",
    "\n",
    "predicted = knn.predict(x_test)\n",
    "print(f'Accuracy: {np.mean(predicted == y_test) * 100}%')"
   ]
  },
  {
   "cell_type": "code",
   "execution_count": null,
   "metadata": {},
   "outputs": [],
   "source": []
  }
 ]
}