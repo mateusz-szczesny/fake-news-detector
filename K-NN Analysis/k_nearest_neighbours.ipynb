{
 "metadata": {
  "language_info": {
   "codemirror_mode": {
    "name": "ipython",
    "version": 3
   },
   "file_extension": ".py",
   "mimetype": "text/x-python",
   "name": "python",
   "nbconvert_exporter": "python",
   "pygments_lexer": "ipython3",
   "version": "3.8.3-final"
  },
  "orig_nbformat": 2,
  "kernelspec": {
   "name": "python3",
   "display_name": "Python 3",
   "language": "python"
  }
 },
 "nbformat": 4,
 "nbformat_minor": 2,
 "cells": [
  {
   "cell_type": "code",
   "execution_count": 7,
   "metadata": {},
   "outputs": [],
   "source": [
    "import numpy as np\n",
    "import pandas as pd\n",
    "from sklearn.feature_extraction.text import TfidfVectorizer\n",
    "from sklearn.neighbors import KNeighborsClassifier"
   ]
  },
  {
   "cell_type": "code",
   "execution_count": 8,
   "metadata": {},
   "outputs": [],
   "source": [
    "TRAINING_SAMPLES = 15000\n",
    "VALIDATION_SAMPLES = 6000\n",
    "MAX_WORDS = 10000"
   ]
  },
  {
   "cell_type": "code",
   "execution_count": 9,
   "metadata": {},
   "outputs": [],
   "source": [
    "train_data = pd.read_csv('../Data/train.csv')\n",
    "\n",
    "nan_idx = train_data[pd.isnull(train_data.text)].index.tolist()\n",
    "train_data.loc[nan_idx, 'text'] = ' '"
   ]
  },
  {
   "cell_type": "code",
   "execution_count": 10,
   "metadata": {},
   "outputs": [],
   "source": [
    "tfidf_vectorizer = TfidfVectorizer(max_features=MAX_WORDS)\n",
    "tfidf_vectorizer.fit(train_data.text)\n",
    "\n",
    "data = tfidf_vectorizer.transform(train_data.text)\n",
    "labels = train_data.label"
   ]
  },
  {
   "cell_type": "code",
   "execution_count": 11,
   "metadata": {},
   "outputs": [],
   "source": [
    "from sklearn.model_selection import train_test_split\n",
    "\n",
    "x_train, x_val, y_train, y_val = train_test_split(data, labels, test_size=0.2, shuffle=True)"
   ]
  },
  {
   "cell_type": "code",
   "execution_count": 12,
   "metadata": {},
   "outputs": [
    {
     "output_type": "execute_result",
     "data": {
      "text/plain": [
       "KNeighborsClassifier(n_neighbors=7)"
      ]
     },
     "metadata": {},
     "execution_count": 12
    }
   ],
   "source": [
    "knn = KNeighborsClassifier(n_neighbors=7)\n",
    "\n",
    "knn.fit(x_train, y_train)"
   ]
  },
  {
   "cell_type": "code",
   "execution_count": 13,
   "metadata": {},
   "outputs": [
    {
     "output_type": "stream",
     "name": "stdout",
     "text": [
      "Accuracy: 70.01923076923077%\n"
     ]
    }
   ],
   "source": [
    "test_data = pd.read_csv('../Data/test.csv')\n",
    "\n",
    "nan_idx = test_data[pd.isnull(test_data.text)].index.tolist()\n",
    "test_data.loc[nan_idx, 'text'] = ' '\n",
    "\n",
    "x_test = tfidf_vectorizer.transform(test_data.text)\n",
    "y_test = test_data.label\n",
    "\n",
    "predicted = knn.predict(x_test)\n",
    "print(f'Accuracy: {np.mean(predicted == y_test) * 100}%')"
   ]
  }
 ]
}