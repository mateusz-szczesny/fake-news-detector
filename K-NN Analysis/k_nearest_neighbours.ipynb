{
 "metadata": {
  "language_info": {
   "codemirror_mode": {
    "name": "ipython",
    "version": 3
   },
   "file_extension": ".py",
   "mimetype": "text/x-python",
   "name": "python",
   "nbconvert_exporter": "python",
   "pygments_lexer": "ipython3",
   "version": "3.8.3"
  },
  "orig_nbformat": 2,
  "kernelspec": {
   "name": "python3",
   "display_name": "Python 3",
   "language": "python"
  }
 },
 "nbformat": 4,
 "nbformat_minor": 2,
 "cells": [
  {
   "cell_type": "code",
   "execution_count": 37,
   "metadata": {},
   "outputs": [],
   "source": [
    "from sklearn.feature_extraction.text import TfidfVectorizer\n",
    "from sklearn.neighbors import KNeighborsClassifier\n",
    "from sklearn.model_selection import KFold, cross_validate\n",
    "import numpy as np\n",
    "import pandas as pd"
   ]
  },
  {
   "cell_type": "code",
   "execution_count": 38,
   "metadata": {},
   "outputs": [],
   "source": [
    "MAX_WORDS = 10000"
   ]
  },
  {
   "cell_type": "code",
   "execution_count": 39,
   "metadata": {},
   "outputs": [],
   "source": [
    "train_data = pd.read_csv('../Data/train.csv')"
   ]
  },
  {
   "cell_type": "code",
   "execution_count": 40,
   "metadata": {},
   "outputs": [],
   "source": [
    "tfidf_vectorizer = TfidfVectorizer(max_features=MAX_WORDS)\n",
    "tfidf_vectorizer.fit(train_data.text)\n",
    "\n",
    "X = tfidf_vectorizer.transform(train_data.text)\n",
    "y = train_data.label"
   ]
  },
  {
   "cell_type": "code",
   "execution_count": 41,
   "metadata": {},
   "outputs": [
    {
     "output_type": "stream",
     "name": "stderr",
     "text": [
      "[Parallel(n_jobs=-1)]: Using backend LokyBackend with 8 concurrent workers.\n",
      "[Parallel(n_jobs=-1)]: Done   2 out of   5 | elapsed:  6.7min remaining: 10.0min\n",
      "[Parallel(n_jobs=-1)]: Done   5 out of   5 | elapsed:  7.1min finished\n"
     ]
    }
   ],
   "source": [
    "knn = KNeighborsClassifier(n_neighbors=7)\n",
    "\n",
    "cv = KFold(n_splits=5, random_state=1, shuffle=True) \n",
    "result = cross_validate(\n",
    "    knn, X, y, \n",
    "    cv=cv, n_jobs=-1,\n",
    "    return_train_score=True\n",
    ")"
   ]
  },
  {
   "cell_type": "code",
   "execution_count": 42,
   "metadata": {},
   "outputs": [
    {
     "output_type": "stream",
     "name": "stdout",
     "text": [
      "fit_time [0.20146155 0.18051934 0.17453623 0.18151498 0.18450785]\nscore_time [91.3961277  91.38216352 86.85475469 88.2639873  86.81386566]\nestimator [KNeighborsClassifier(n_neighbors=7), KNeighborsClassifier(n_neighbors=7), KNeighborsClassifier(n_neighbors=7), KNeighborsClassifier(n_neighbors=7), KNeighborsClassifier(n_neighbors=7)]\ntest_score [0.72976099 0.74108348 0.74301137 0.73009447 0.7331791 ]\ntrain_score [0.7741951  0.77078413 0.7622536  0.77256735 0.77227818]\n"
     ]
    }
   ],
   "source": [
    "for key, value in result.items():\n",
    "    print(key, value)"
   ]
  },
  {
   "cell_type": "code",
   "execution_count": null,
   "metadata": {},
   "outputs": [],
   "source": [
    "knn.fit(X, y)"
   ]
  },
  {
   "cell_type": "code",
   "execution_count": null,
   "metadata": {},
   "outputs": [],
   "source": [
    "test_data = pd.read_csv('../Data/test.csv')\n",
    "\n",
    "X_test = tfidf_vectorizer.transform(test_data.text)\n",
    "y_test = test_data.label\n",
    "\n",
    "predicted = knn.predict(X_test)\n",
    "print(f'Accuracy: {np.mean(predicted == y_test) * 100}%')"
   ]
  }
 ]
}