{
 "metadata": {
  "language_info": {
   "codemirror_mode": {
    "name": "ipython",
    "version": 3
   },
   "file_extension": ".py",
   "mimetype": "text/x-python",
   "name": "python",
   "nbconvert_exporter": "python",
   "pygments_lexer": "ipython3",
   "version": "3.8.3"
  },
  "orig_nbformat": 2,
  "kernelspec": {
   "name": "python3",
   "display_name": "Python 3",
   "language": "python"
  }
 },
 "nbformat": 4,
 "nbformat_minor": 2,
 "cells": [
  {
   "cell_type": "code",
   "execution_count": 2,
   "metadata": {},
   "outputs": [],
   "source": [
    "import pandas as pd"
   ]
  },
  {
   "cell_type": "code",
   "execution_count": 3,
   "metadata": {},
   "outputs": [
    {
     "output_type": "stream",
     "name": "stdout",
     "text": [
      "20800\n5200\n"
     ]
    }
   ],
   "source": [
    "train_data = pd.read_csv('Data/train.csv')\n",
    "test_data = pd.read_csv('Data/test.csv')\n",
    "\n",
    "print(len(train_data))\n",
    "print(len(test_data))"
   ]
  },
  {
   "cell_type": "code",
   "execution_count": 24,
   "metadata": {},
   "outputs": [
    {
     "output_type": "stream",
     "name": "stdout",
     "text": [
      "train len - 18155.199999999997\nval len - 4668.48\ntest len - 2074.88\n"
     ]
    }
   ],
   "source": [
    "rows_count = len(shuffled_data)\n",
    "print(f'train len - {rows_count * 0.7}')\n",
    "print(f'val len - {rows_count * 0.18}')\n",
    "print(f'test len - {rows_count * 0.08}')"
   ]
  },
  {
   "cell_type": "code",
   "execution_count": 58,
   "metadata": {},
   "outputs": [
    {
     "output_type": "stream",
     "name": "stdout",
     "text": [
      "TRAIN: 70.00308451573103%\nVAL: 20.010795805058606%\nTEST: 9.986119679210365%\nTrue\n"
     ]
    }
   ],
   "source": [
    "ROWS_COUNT = 25936\n",
    "# train = 18156 rows\n",
    "# val = 5190 rows\n",
    "# tets = 2590 rows\n",
    "train_size = 18156\n",
    "val_size = 5190\n",
    "test_size = 2590\n",
    "print(f'TRAIN: {train_size / ROWS_COUNT * 100}%')\n",
    "print(f'VAL: {val_size / ROWS_COUNT * 100}%')\n",
    "print(f'TEST: {test_size / ROWS_COUNT * 100}%')\n",
    "print(ROWS_COUNT == (train_size + val_size + test_size))\n"
   ]
  },
  {
   "cell_type": "code",
   "execution_count": 5,
   "metadata": {},
   "outputs": [
    {
     "output_type": "execute_result",
     "data": {
      "text/plain": [
       "26000"
      ]
     },
     "metadata": {},
     "execution_count": 5
    }
   ],
   "source": [
    "data = pd.concat([train_data, test_data])\n",
    "\n",
    "len(data)"
   ]
  },
  {
   "cell_type": "code",
   "execution_count": 10,
   "metadata": {},
   "outputs": [],
   "source": [
    "nan_idx = data[pd.isnull(data.text)].index.tolist()\n",
    "# train_data.loc[nan_idx, 'text'] = ' '"
   ]
  },
  {
   "cell_type": "code",
   "execution_count": 11,
   "metadata": {},
   "outputs": [
    {
     "output_type": "stream",
     "name": "stdout",
     "text": [
      "[142, 573, 1200, 1911, 2148, 2169, 2793, 3329, 3729, 4288, 4358, 5717, 6215, 6680, 8649, 8908, 8922, 9350, 9446, 9454, 9524, 10466, 10867, 11450, 11486, 12056, 12460, 12835, 13020, 13107, 13915, 14499, 14933, 16126, 18479, 18757, 19157, 19227, 19388, 589, 626, 978, 2257, 2892, 4736, 5092]\n"
     ]
    }
   ],
   "source": [
    "print(nan_idx)"
   ]
  },
  {
   "cell_type": "code",
   "execution_count": 14,
   "metadata": {},
   "outputs": [],
   "source": [
    "new_data = data.drop(index=nan_idx)"
   ]
  },
  {
   "cell_type": "code",
   "execution_count": 15,
   "metadata": {},
   "outputs": [
    {
     "output_type": "stream",
     "name": "stdout",
     "text": [
      "26000\n25936\n"
     ]
    }
   ],
   "source": [
    "print(len(data))\n",
    "print(len(new_data))"
   ]
  },
  {
   "cell_type": "code",
   "execution_count": 59,
   "metadata": {},
   "outputs": [],
   "source": [
    "shuffled_data = new_data.sample(frac=1)"
   ]
  },
  {
   "cell_type": "code",
   "execution_count": 60,
   "metadata": {},
   "outputs": [
    {
     "output_type": "execute_result",
     "data": {
      "text/plain": [
       "25936"
      ]
     },
     "metadata": {},
     "execution_count": 60
    }
   ],
   "source": [
    "len(shuffled_data)"
   ]
  },
  {
   "cell_type": "code",
   "execution_count": 61,
   "metadata": {},
   "outputs": [],
   "source": [
    "train_frame = shuffled_data[:train_size + val_size]"
   ]
  },
  {
   "cell_type": "code",
   "execution_count": 63,
   "metadata": {},
   "outputs": [
    {
     "output_type": "execute_result",
     "data": {
      "text/plain": [
       "True"
      ]
     },
     "metadata": {},
     "execution_count": 63
    }
   ],
   "source": [
    "len(train_frame) == train_size + val_size"
   ]
  },
  {
   "cell_type": "code",
   "execution_count": 64,
   "metadata": {},
   "outputs": [],
   "source": [
    "train_frame.to_csv('Data/new_train.csv')"
   ]
  },
  {
   "cell_type": "code",
   "execution_count": 65,
   "metadata": {},
   "outputs": [],
   "source": [
    "test_frame = shuffled_data.tail(test_size)"
   ]
  },
  {
   "cell_type": "code",
   "execution_count": 66,
   "metadata": {},
   "outputs": [
    {
     "output_type": "execute_result",
     "data": {
      "text/plain": [
       "True"
      ]
     },
     "metadata": {},
     "execution_count": 66
    }
   ],
   "source": [
    "len(test_frame) == test_size"
   ]
  },
  {
   "cell_type": "code",
   "execution_count": 72,
   "metadata": {},
   "outputs": [],
   "source": [
    "len(shuffled_data)\n",
    "shuffled_data.to_csv('Data/data.csv')"
   ]
  },
  {
   "cell_type": "code",
   "execution_count": 67,
   "metadata": {},
   "outputs": [],
   "source": [
    "test_frame.to_csv('Data/new_test.csv')"
   ]
  },
  {
   "cell_type": "code",
   "execution_count": 68,
   "metadata": {},
   "outputs": [
    {
     "output_type": "execute_result",
     "data": {
      "text/plain": [
       "True"
      ]
     },
     "metadata": {},
     "execution_count": 68
    }
   ],
   "source": [
    "len(train_frame) + len(test_frame) == len(shuffled_data)"
   ]
  },
  {
   "cell_type": "code",
   "execution_count": 69,
   "metadata": {},
   "outputs": [
    {
     "output_type": "execute_result",
     "data": {
      "text/plain": [
       "          id                                              title  \\\n",
       "3722    3722  Volkswagen Executive’s Trip to U.S. Allowed F....   \n",
       "8224    8224  Comment on The “Six Million” Myth by The Jew, ...   \n",
       "10953  10953  Stabbing Injures Seven People in Newark Home ·...   \n",
       "5703    5703  Hayward: Who Needs the ’Resistance’ When You’v...   \n",
       "18083  18083  Donald Trump Keeps Distance in G.O.P. Platform...   \n",
       "...      ...                                                ...   \n",
       "8038    8038  Woman, 88, Talks Man Out of Raping Her by Sayi...   \n",
       "16844  16844  3 Reasons Why Trump’s Focus on MS-13 Could Be ...   \n",
       "12692  12692  Sometimes, Spending Brings a Bigger Return Tha...   \n",
       "234      234  As Trump Berates News Media, a New Strategy Is...   \n",
       "8382    8382  Conservative Group Club for Growth Opposes Pau...   \n",
       "\n",
       "                                                  author  \\\n",
       "3722         Jack Ewing, Adam Goldman and Hiroko Tabuchi   \n",
       "8224   The Jew, the Zionist and antisemitism at the H...   \n",
       "10953                                       Brandy Combs   \n",
       "5703                                        John Hayward   \n",
       "18083                                   Jeremy W. Peters   \n",
       "...                                                  ...   \n",
       "8038                                 Katherine Rodriguez   \n",
       "16844                 Brandon Darby &amp Ildefonso Ortiz   \n",
       "12692                                      Carl Richards   \n",
       "234                                        Jim Rutenberg   \n",
       "8382                                          Sean Moran   \n",
       "\n",
       "                                                    text  label  Unnamed: 0  \n",
       "3722   When F. B. I. agents learned that a prime susp...      0         NaN  \n",
       "8224   By wmw_admin on April 16, 2011 Zion’s Big Lie ...      1         NaN  \n",
       "10953  According to ABC Eye Witness News, on Saturday...      1         NaN  \n",
       "5703   Why does the left bother with “Resistance” the...      0         NaN  \n",
       "18083  CLEVELAND  —     marriage and transgender righ...      0         NaN  \n",
       "...                                                  ...    ...         ...  \n",
       "8038   An    woman says she was able to talk her way ...      0         NaN  \n",
       "16844  The brutal and largely illegal immigrant fille...      0         NaN  \n",
       "12692  Life experiences give you an incalculable retu...      0         NaN  \n",
       "234    Well, that sure escalated quickly. “That” was ...      0         NaN  \n",
       "8382   Club for Growth President David McIntosh relea...      0         NaN  \n",
       "\n",
       "[23346 rows x 6 columns]"
      ],
      "text/html": "<div>\n<style scoped>\n    .dataframe tbody tr th:only-of-type {\n        vertical-align: middle;\n    }\n\n    .dataframe tbody tr th {\n        vertical-align: top;\n    }\n\n    .dataframe thead th {\n        text-align: right;\n    }\n</style>\n<table border=\"1\" class=\"dataframe\">\n  <thead>\n    <tr style=\"text-align: right;\">\n      <th></th>\n      <th>id</th>\n      <th>title</th>\n      <th>author</th>\n      <th>text</th>\n      <th>label</th>\n      <th>Unnamed: 0</th>\n    </tr>\n  </thead>\n  <tbody>\n    <tr>\n      <th>3722</th>\n      <td>3722</td>\n      <td>Volkswagen Executive’s Trip to U.S. Allowed F....</td>\n      <td>Jack Ewing, Adam Goldman and Hiroko Tabuchi</td>\n      <td>When F. B. I. agents learned that a prime susp...</td>\n      <td>0</td>\n      <td>NaN</td>\n    </tr>\n    <tr>\n      <th>8224</th>\n      <td>8224</td>\n      <td>Comment on The “Six Million” Myth by The Jew, ...</td>\n      <td>The Jew, the Zionist and antisemitism at the H...</td>\n      <td>By wmw_admin on April 16, 2011 Zion’s Big Lie ...</td>\n      <td>1</td>\n      <td>NaN</td>\n    </tr>\n    <tr>\n      <th>10953</th>\n      <td>10953</td>\n      <td>Stabbing Injures Seven People in Newark Home ·...</td>\n      <td>Brandy Combs</td>\n      <td>According to ABC Eye Witness News, on Saturday...</td>\n      <td>1</td>\n      <td>NaN</td>\n    </tr>\n    <tr>\n      <th>5703</th>\n      <td>5703</td>\n      <td>Hayward: Who Needs the ’Resistance’ When You’v...</td>\n      <td>John Hayward</td>\n      <td>Why does the left bother with “Resistance” the...</td>\n      <td>0</td>\n      <td>NaN</td>\n    </tr>\n    <tr>\n      <th>18083</th>\n      <td>18083</td>\n      <td>Donald Trump Keeps Distance in G.O.P. Platform...</td>\n      <td>Jeremy W. Peters</td>\n      <td>CLEVELAND  —     marriage and transgender righ...</td>\n      <td>0</td>\n      <td>NaN</td>\n    </tr>\n    <tr>\n      <th>...</th>\n      <td>...</td>\n      <td>...</td>\n      <td>...</td>\n      <td>...</td>\n      <td>...</td>\n      <td>...</td>\n    </tr>\n    <tr>\n      <th>8038</th>\n      <td>8038</td>\n      <td>Woman, 88, Talks Man Out of Raping Her by Sayi...</td>\n      <td>Katherine Rodriguez</td>\n      <td>An    woman says she was able to talk her way ...</td>\n      <td>0</td>\n      <td>NaN</td>\n    </tr>\n    <tr>\n      <th>16844</th>\n      <td>16844</td>\n      <td>3 Reasons Why Trump’s Focus on MS-13 Could Be ...</td>\n      <td>Brandon Darby &amp;amp Ildefonso Ortiz</td>\n      <td>The brutal and largely illegal immigrant fille...</td>\n      <td>0</td>\n      <td>NaN</td>\n    </tr>\n    <tr>\n      <th>12692</th>\n      <td>12692</td>\n      <td>Sometimes, Spending Brings a Bigger Return Tha...</td>\n      <td>Carl Richards</td>\n      <td>Life experiences give you an incalculable retu...</td>\n      <td>0</td>\n      <td>NaN</td>\n    </tr>\n    <tr>\n      <th>234</th>\n      <td>234</td>\n      <td>As Trump Berates News Media, a New Strategy Is...</td>\n      <td>Jim Rutenberg</td>\n      <td>Well, that sure escalated quickly. “That” was ...</td>\n      <td>0</td>\n      <td>NaN</td>\n    </tr>\n    <tr>\n      <th>8382</th>\n      <td>8382</td>\n      <td>Conservative Group Club for Growth Opposes Pau...</td>\n      <td>Sean Moran</td>\n      <td>Club for Growth President David McIntosh relea...</td>\n      <td>0</td>\n      <td>NaN</td>\n    </tr>\n  </tbody>\n</table>\n<p>23346 rows × 6 columns</p>\n</div>"
     },
     "metadata": {},
     "execution_count": 69
    }
   ],
   "source": [
    "train_frame"
   ]
  },
  {
   "cell_type": "code",
   "execution_count": 70,
   "metadata": {},
   "outputs": [
    {
     "output_type": "execute_result",
     "data": {
      "text/plain": [
       "2590"
      ]
     },
     "metadata": {},
     "execution_count": 70
    }
   ],
   "source": [
    "len(test_frame)"
   ]
  },
  {
   "cell_type": "code",
   "execution_count": 3,
   "metadata": {},
   "outputs": [
    {
     "output_type": "stream",
     "name": "stdout",
     "text": [
      "train_data (23346, 7)\ntest_data (2590, 7)\ndata (25936, 7)\n"
     ]
    }
   ],
   "source": [
    "train_data = pd.read_csv('Data/new_train.csv')\n",
    "test_data = pd.read_csv('Data/new_test.csv')\n",
    "data = pd.read_csv('Data/data.csv')\n",
    "print('train_data', train_data.shape)\n",
    "print('test_data', test_data.shape)\n",
    "print('data', data.shape)"
   ]
  },
  {
   "cell_type": "code",
   "execution_count": 21,
   "metadata": {},
   "outputs": [
    {
     "output_type": "stream",
     "name": "stdout",
     "text": [
      "Index(['Unnamed: 0', 'id', 'title', 'author', 'text', 'label', 'Unnamed: 0.1'], dtype='object')\n"
     ]
    }
   ],
   "source": [
    "import pandas as pd\n",
    "data = pd.read_csv('Data/train.csv')\n",
    "print(data.columns)"
   ]
  },
  {
   "cell_type": "code",
   "execution_count": 22,
   "metadata": {},
   "outputs": [],
   "source": [
    "del data['Unnamed: 0']\n",
    "del data['title']\n",
    "del data['author']\n",
    "del data['Unnamed: 0.1']"
   ]
  },
  {
   "cell_type": "code",
   "execution_count": 23,
   "metadata": {},
   "outputs": [
    {
     "output_type": "stream",
     "name": "stdout",
     "text": [
      "          id                                               text  label\n0       3722  When F. B. I. agents learned that a prime susp...      0\n1       8224  By wmw_admin on April 16, 2011 Zion’s Big Lie ...      1\n2      10953  According to ABC Eye Witness News, on Saturday...      1\n3       5703  Why does the left bother with “Resistance” the...      0\n4      18083  CLEVELAND  —     marriage and transgender righ...      0\n...      ...                                                ...    ...\n23341   8038  An    woman says she was able to talk her way ...      0\n23342  16844  The brutal and largely illegal immigrant fille...      0\n23343  12692  Life experiences give you an incalculable retu...      0\n23344    234  Well, that sure escalated quickly. “That” was ...      0\n23345   8382  Club for Growth President David McIntosh relea...      0\n\n[23346 rows x 3 columns]\n"
     ]
    }
   ],
   "source": [
    "\n",
    "print(data)"
   ]
  },
  {
   "cell_type": "code",
   "execution_count": 24,
   "metadata": {},
   "outputs": [],
   "source": [
    "data.to_csv('Data/new_train.csv', index=False)\n"
   ]
  },
  {
   "cell_type": "code",
   "execution_count": 25,
   "metadata": {},
   "outputs": [
    {
     "output_type": "execute_result",
     "data": {
      "text/plain": [
       "(23346, 3)"
      ]
     },
     "metadata": {},
     "execution_count": 25
    }
   ],
   "source": [
    "data.shape"
   ]
  },
  {
   "cell_type": "code",
   "execution_count": 27,
   "metadata": {},
   "outputs": [
    {
     "output_type": "stream",
     "name": "stdout",
     "text": [
      "Index(['id', 'text', 'label'], dtype='object')\n          id                                               text  label\n0       3722  When F. B. I. agents learned that a prime susp...      0\n1       8224  By wmw_admin on April 16, 2011 Zion’s Big Lie ...      1\n2      10953  According to ABC Eye Witness News, on Saturday...      1\n3       5703  Why does the left bother with “Resistance” the...      0\n4      18083  CLEVELAND  —     marriage and transgender righ...      0\n...      ...                                                ...    ...\n23341   8038  An    woman says she was able to talk her way ...      0\n23342  16844  The brutal and largely illegal immigrant fille...      0\n23343  12692  Life experiences give you an incalculable retu...      0\n23344    234  Well, that sure escalated quickly. “That” was ...      0\n23345   8382  Club for Growth President David McIntosh relea...      0\n\n[23346 rows x 3 columns]\n"
     ]
    }
   ],
   "source": [
    "test = pd.read_csv('Data/new_train.csv')\n",
    "print(test.columns)\n",
    "print(test)"
   ]
  },
  {
   "cell_type": "code",
   "execution_count": null,
   "metadata": {},
   "outputs": [],
   "source": [
    "data = pd.read_csv('Data/)"
   ]
  }
 ]
}